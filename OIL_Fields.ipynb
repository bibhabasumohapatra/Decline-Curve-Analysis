{
  "nbformat": 4,
  "nbformat_minor": 0,
  "metadata": {
    "colab": {
      "name": "OIL Fields.ipynb",
      "provenance": [],
      "authorship_tag": "ABX9TyPL9bBPCuYG6jbrFBcVrPmC",
      "include_colab_link": true
    },
    "kernelspec": {
      "name": "python3",
      "display_name": "Python 3"
    },
    "language_info": {
      "name": "python"
    }
  },
  "cells": [
    {
      "cell_type": "markdown",
      "metadata": {
        "id": "view-in-github",
        "colab_type": "text"
      },
      "source": [
        "<a href=\"https://colab.research.google.com/github/bibhabasumohapatra/Decline-Curve-Analysis/blob/main/OIL_Fields.ipynb\" target=\"_parent\"><img src=\"https://colab.research.google.com/assets/colab-badge.svg\" alt=\"Open In Colab\"/></a>"
      ]
    },
    {
      "cell_type": "code",
      "metadata": {
        "id": "31vJ6ITGturi"
      },
      "source": [
        ""
      ],
      "execution_count": null,
      "outputs": []
    },
    {
      "cell_type": "code",
      "metadata": {
        "colab": {
          "base_uri": "https://localhost:8080/"
        },
        "id": "ugzpAohTtxs0",
        "outputId": "124afa38-379f-42aa-eb95-5b47107bd410"
      },
      "source": [
        "from google.colab import drive\n",
        "drive.mount('/content/drive')"
      ],
      "execution_count": null,
      "outputs": [
        {
          "output_type": "stream",
          "name": "stdout",
          "text": [
            "Mounted at /content/drive\n"
          ]
        }
      ]
    },
    {
      "cell_type": "code",
      "metadata": {
        "id": "Qof_twb4gEUZ"
      },
      "source": [
        "import pandas as pd\n",
        "from scipy.optimize import curve_fit\n",
        "import numpy as np\n",
        "import matplotlib.pyplot as plt"
      ],
      "execution_count": null,
      "outputs": []
    },
    {
      "cell_type": "markdown",
      "metadata": {
        "id": "mS3XglsMYE64"
      },
      "source": [
        "# Hyperbolic and exponential function returns"
      ]
    },
    {
      "cell_type": "code",
      "metadata": {
        "id": "ZRXPxOfcXdnl"
      },
      "source": [
        "def hyperbolic_equation(t, qi, b, di):\n",
        "    \"\"\"\n",
        "    Hyperbolic decline curve equation\n",
        "    Arguments:\n",
        "        t: Float. Time since the well first came online, can be in various units \n",
        "        (days, months, etc) so long as they are consistent.\n",
        "        qi: Float. Initial production rate when well first came online.\n",
        "        b: Float. Hyperbolic decline constant\n",
        "        di: Float. Nominal decline rate at time t=0\n",
        "    Output: \n",
        "        Returns q, or the expected production rate at time t. Float.\n",
        "    \"\"\"\n",
        "    return qi/((1.0+b*di*t)**(1.0/b))\n",
        "\n",
        "def exponential_equation(t, qi, di):\n",
        "    \"\"\"\n",
        "    Exponential decline curve equation\n",
        "    Arguments:\n",
        "        t: Float. Time since the well first came online, can be in various units \n",
        "        (days, months, etc) so long as they are consistent.\n",
        "        qi: Float. Initial production rate when well first came online.\n",
        "        di: Float. Nominal decline rate (constant)\n",
        "    Output: \n",
        "        Returns q, or the expected production rate at time t. Float.\n",
        "    \"\"\"\n",
        "    return qi*np.exp(-di*t)"
      ],
      "execution_count": null,
      "outputs": []
    },
    {
      "cell_type": "markdown",
      "metadata": {
        "id": "3tk30Xq6X4ur"
      },
      "source": [
        "## To find the initial production or qi"
      ]
    },
    {
      "cell_type": "code",
      "metadata": {
        "id": "QAm7eRBda8CN"
      },
      "source": [
        "def remove_nan_and_zeroes_from_columns(df, variable):\n",
        "    \"\"\"\n",
        "    This function cleans up a dataframe by removing rows in a specific \n",
        "    column that are null/NaN or equal to 0. This basically removes zero \n",
        "    production time periods.\n",
        "    Arguments:\n",
        "        df: Pandas dataframe.\n",
        "        variable: String. Name of the column where we want to filter out\n",
        "        NaN's or 0 values\n",
        "    Output:\n",
        "        filtered_df: Pandas dataframe. Dataframe with NaN's and zeroes filtered out of \n",
        "        the specified column\n",
        "    \"\"\"\n",
        "    filtered_df = df[(df[variable].notnull()) & (df[variable]>0)]\n",
        "    return filtered_df"
      ],
      "execution_count": null,
      "outputs": []
    },
    {
      "cell_type": "code",
      "metadata": {
        "id": "VY5PtPTJb248"
      },
      "source": [
        "def generate_time_delta_column(df, time_column, date_first_online_column):\n",
        "    \"\"\"\n",
        "    Create column for the time that a well has been online at each reading, with \n",
        "    the first non-null month in the series listed as the start of production\n",
        "    Arguments:\n",
        "        df: Pandas dataframe\n",
        "        time_column: String. Name of the column that includes the specific record date\n",
        "        that the data was taken at. Column type is pandas datetime\n",
        "        date_first_online_column: Name of the column that includes the date that the\n",
        "        well came online. Column type is pandas datetime\n",
        "    Outputs:\n",
        "        Pandas series containing the difference in days between the date the well\n",
        "        came online and the date that the data was recorded (cumulative days online)\n",
        "    \"\"\"\n",
        "    return (df[time_column]-df[date_first_online_column]).dt.days"
      ],
      "execution_count": null,
      "outputs": []
    },
    {
      "cell_type": "code",
      "metadata": {
        "id": "SGWgdFZ3cC7p"
      },
      "source": [
        "def get_min_or_max_value_in_column_by_group(dataframe, group_by_column, calc_column, calc_type):\n",
        "    \"\"\"\n",
        "    This function obtains the min or max value for a column, with a group by applied. For example,\n",
        "    it could return the earliest (min) RecordDate for each API number in a dataframe \n",
        "    Arguments:\n",
        "        dataframe: Pandas dataframe \n",
        "        group_by_column: string. Name of column that we want to apply a group by to\n",
        "        calc_column: string. Name of the column that we want to get the aggregated max or min for\n",
        "        calc_type: string; can be either 'min' or 'max'. Defined if we want to pull the min value \n",
        "        or the max value for the aggregated column\n",
        "    Outputs:\n",
        "        value: Depends on the calc_column type.\n",
        "    \"\"\"\n",
        "    value=dataframe.groupby(group_by_column)[calc_column].transform(calc_type)\n",
        "    return value"
      ],
      "execution_count": null,
      "outputs": []
    },
    {
      "cell_type": "code",
      "metadata": {
        "id": "no2Ki9qiX3KW"
      },
      "source": [
        "def get_max_initial_production(df, number_first_months, variable_column, date_column):\n",
        "    \"\"\"\n",
        "    This function allows you to look at the first X months of production, and selects \n",
        "    the highest production month as max initial production\n",
        "    Arguments:\n",
        "        df: Pandas dataframe. \n",
        "        number_first_months: float. Number of months from the point the well comes online\n",
        "        to compare to get the max initial production rate qi (this looks at multiple months\n",
        "        in case there is a production ramp-up)\n",
        "        variable_column: String. Column name for the column where we're attempting to get\n",
        "        the max volume from (can be either 'Gas' or 'Oil' in this script)\n",
        "        date_column: String. Column name for the date that the data was taken at \n",
        "    \"\"\"\n",
        "    #First, sort the data frame from earliest to most recent prod date\n",
        "    df=df.sort_values(by=date_column)\n",
        "    #Pull out the first x months of production, where number_first_months is x\n",
        "    df_beginning_production=df.head(number_first_months)\n",
        "    #Return the max value in the selected variable column from the newly created \n",
        "    #df_beginning_production df\n",
        "    return df_beginning_production[variable_column].max()"
      ],
      "execution_count": null,
      "outputs": []
    },
    {
      "cell_type": "code",
      "metadata": {
        "id": "IDxx43WJZK8e"
      },
      "source": [
        "def plot_actual_vs_predicted_by_equations(df, x_variable, y_variables, plot_title):\n",
        "    \"\"\"\n",
        "    This function is used to map x- and y-variables against each other\n",
        "    Arguments:\n",
        "        df: Pandas dataframe.\n",
        "        x_variable: String. Name of the column that we want to set as the \n",
        "        x-variable in the plot\n",
        "        y_variables: string (single), or list of strings (multiple). Name(s) \n",
        "        of the column(s) that we want to set as the y-variable in the plot\n",
        "    \"\"\"\n",
        "    #Plot results\n",
        "    df.plot(x=x_variable, y=y_variables, title=plot_title)\n",
        "    plt.show()"
      ],
      "execution_count": null,
      "outputs": []
    },
    {
      "cell_type": "code",
      "metadata": {
        "id": "ACWAZzKxdB3E"
      },
      "source": [
        "import pandas as pd\n",
        "\n",
        "path = '/content/master_dataframe_production.csv'\n",
        "df = pd.read_csv(path)"
      ],
      "execution_count": null,
      "outputs": []
    },
    {
      "cell_type": "code",
      "metadata": {
        "colab": {
          "base_uri": "https://localhost:8080/",
          "height": 442
        },
        "id": "JfajhLoDdPca",
        "outputId": "e0c71b6d-554a-49cd-d6e5-0599ceaa5617"
      },
      "source": [
        "df.tail()"
      ],
      "execution_count": null,
      "outputs": [
        {
          "output_type": "execute_result",
          "data": {
            "text/html": [
              "<div>\n",
              "<style scoped>\n",
              "    .dataframe tbody tr th:only-of-type {\n",
              "        vertical-align: middle;\n",
              "    }\n",
              "\n",
              "    .dataframe tbody tr th {\n",
              "        vertical-align: top;\n",
              "    }\n",
              "\n",
              "    .dataframe thead th {\n",
              "        text-align: right;\n",
              "    }\n",
              "</style>\n",
              "<table border=\"1\" class=\"dataframe\">\n",
              "  <thead>\n",
              "    <tr style=\"text-align: right;\">\n",
              "      <th></th>\n",
              "      <th>Unnamed: 0</th>\n",
              "      <th>Unnamed: 0.1</th>\n",
              "      <th>ReportDate</th>\n",
              "      <th>API_WELLNO</th>\n",
              "      <th>FileNo</th>\n",
              "      <th>Company</th>\n",
              "      <th>WellName</th>\n",
              "      <th>Quarter</th>\n",
              "      <th>Section</th>\n",
              "      <th>Township</th>\n",
              "      <th>Range</th>\n",
              "      <th>County</th>\n",
              "      <th>FieldName</th>\n",
              "      <th>Pool</th>\n",
              "      <th>Oil</th>\n",
              "      <th>Wtr</th>\n",
              "      <th>Days</th>\n",
              "      <th>Runs</th>\n",
              "      <th>Gas</th>\n",
              "      <th>GasSold</th>\n",
              "      <th>Flared</th>\n",
              "      <th>Lat</th>\n",
              "      <th>Long</th>\n",
              "      <th>Online_Date</th>\n",
              "      <th>Days_Online</th>\n",
              "    </tr>\n",
              "  </thead>\n",
              "  <tbody>\n",
              "    <tr>\n",
              "      <th>26036</th>\n",
              "      <td>600942</td>\n",
              "      <td>17308</td>\n",
              "      <td>2019-01-01</td>\n",
              "      <td>3.301301e+13</td>\n",
              "      <td>3520.0</td>\n",
              "      <td>PETRO HARVESTER OPERATING COMPANY, LLC</td>\n",
              "      <td>AAGE CHRISTIANSEN     3</td>\n",
              "      <td>NWNW</td>\n",
              "      <td>3.0</td>\n",
              "      <td>162.0</td>\n",
              "      <td>90.0</td>\n",
              "      <td>BRK</td>\n",
              "      <td>WOBURN</td>\n",
              "      <td>MADISON</td>\n",
              "      <td>2.0</td>\n",
              "      <td>2.0</td>\n",
              "      <td>1.0</td>\n",
              "      <td>0.0</td>\n",
              "      <td>1.0</td>\n",
              "      <td>1.0</td>\n",
              "      <td>0.0</td>\n",
              "      <td>48.892432</td>\n",
              "      <td>-102.346268</td>\n",
              "      <td>2016-02-01</td>\n",
              "      <td>1065</td>\n",
              "    </tr>\n",
              "    <tr>\n",
              "      <th>26037</th>\n",
              "      <td>600945</td>\n",
              "      <td>17311</td>\n",
              "      <td>2019-01-01</td>\n",
              "      <td>3.301301e+13</td>\n",
              "      <td>5969.0</td>\n",
              "      <td>PETRO HARVESTER OPERATING COMPANY, LLC</td>\n",
              "      <td>AAGE CHRISTIANSEN     6</td>\n",
              "      <td>SESE</td>\n",
              "      <td>34.0</td>\n",
              "      <td>163.0</td>\n",
              "      <td>90.0</td>\n",
              "      <td>BRK</td>\n",
              "      <td>WOBURN</td>\n",
              "      <td>MADISON</td>\n",
              "      <td>35.0</td>\n",
              "      <td>50.0</td>\n",
              "      <td>29.0</td>\n",
              "      <td>54.0</td>\n",
              "      <td>69.0</td>\n",
              "      <td>69.0</td>\n",
              "      <td>0.0</td>\n",
              "      <td>48.896057</td>\n",
              "      <td>-102.329733</td>\n",
              "      <td>2016-05-01</td>\n",
              "      <td>975</td>\n",
              "    </tr>\n",
              "    <tr>\n",
              "      <th>26038</th>\n",
              "      <td>600948</td>\n",
              "      <td>17314</td>\n",
              "      <td>2019-01-01</td>\n",
              "      <td>3.301300e+13</td>\n",
              "      <td>2781.0</td>\n",
              "      <td>PETRO HARVESTER OPERATING COMPANY, LLC</td>\n",
              "      <td>GEHRKE HEIRS     1</td>\n",
              "      <td>SESW</td>\n",
              "      <td>8.0</td>\n",
              "      <td>162.0</td>\n",
              "      <td>90.0</td>\n",
              "      <td>BRK</td>\n",
              "      <td>WOBURN</td>\n",
              "      <td>MADISON</td>\n",
              "      <td>96.0</td>\n",
              "      <td>77.0</td>\n",
              "      <td>31.0</td>\n",
              "      <td>168.0</td>\n",
              "      <td>547.0</td>\n",
              "      <td>547.0</td>\n",
              "      <td>0.0</td>\n",
              "      <td>48.867035</td>\n",
              "      <td>-102.384569</td>\n",
              "      <td>2016-01-01</td>\n",
              "      <td>1096</td>\n",
              "    </tr>\n",
              "    <tr>\n",
              "      <th>26039</th>\n",
              "      <td>600968</td>\n",
              "      <td>17334</td>\n",
              "      <td>2019-01-01</td>\n",
              "      <td>3.302503e+13</td>\n",
              "      <td>32050.0</td>\n",
              "      <td>MARATHON OIL COMPANY</td>\n",
              "      <td>MARTINEZ USA  24-8H</td>\n",
              "      <td>NWNE</td>\n",
              "      <td>17.0</td>\n",
              "      <td>146.0</td>\n",
              "      <td>92.0</td>\n",
              "      <td>DUN</td>\n",
              "      <td>WOLF BAY</td>\n",
              "      <td>BAKKEN</td>\n",
              "      <td>3884.0</td>\n",
              "      <td>4603.0</td>\n",
              "      <td>31.0</td>\n",
              "      <td>3834.0</td>\n",
              "      <td>1400.0</td>\n",
              "      <td>973.0</td>\n",
              "      <td>18.0</td>\n",
              "      <td>47.470754</td>\n",
              "      <td>-102.425092</td>\n",
              "      <td>2016-02-01</td>\n",
              "      <td>1065</td>\n",
              "    </tr>\n",
              "    <tr>\n",
              "      <th>26040</th>\n",
              "      <td>600986</td>\n",
              "      <td>17352</td>\n",
              "      <td>2019-01-01</td>\n",
              "      <td>3.302301e+13</td>\n",
              "      <td>26196.0</td>\n",
              "      <td>MUREX PETROLEUM CORPORATION</td>\n",
              "      <td>DIANE RENEE  3-10H</td>\n",
              "      <td>LOT2</td>\n",
              "      <td>3.0</td>\n",
              "      <td>161.0</td>\n",
              "      <td>101.0</td>\n",
              "      <td>DIV</td>\n",
              "      <td>WRITING ROCK</td>\n",
              "      <td>BAKKEN</td>\n",
              "      <td>4812.0</td>\n",
              "      <td>14448.0</td>\n",
              "      <td>31.0</td>\n",
              "      <td>4557.0</td>\n",
              "      <td>524.0</td>\n",
              "      <td>0.0</td>\n",
              "      <td>121.0</td>\n",
              "      <td>48.807107</td>\n",
              "      <td>-103.781163</td>\n",
              "      <td>2016-01-01</td>\n",
              "      <td>1096</td>\n",
              "    </tr>\n",
              "  </tbody>\n",
              "</table>\n",
              "</div>"
            ],
            "text/plain": [
              "       Unnamed: 0  Unnamed: 0.1  ... Online_Date  Days_Online\n",
              "26036      600942         17308  ...  2016-02-01         1065\n",
              "26037      600945         17311  ...  2016-05-01          975\n",
              "26038      600948         17314  ...  2016-01-01         1096\n",
              "26039      600968         17334  ...  2016-02-01         1065\n",
              "26040      600986         17352  ...  2016-01-01         1096\n",
              "\n",
              "[5 rows x 25 columns]"
            ]
          },
          "metadata": {},
          "execution_count": 40
        }
      ]
    },
    {
      "cell_type": "code",
      "metadata": {
        "colab": {
          "base_uri": "https://localhost:8080/",
          "height": 1000
        },
        "id": "6IQ-GLp8dQYE",
        "outputId": "dc9c79fe-8bae-40f0-c5eb-212700ac31db"
      },
      "source": [
        "#Read in the monthly oil and gas data\n",
        "file_path='master_dataframe_production.csv'\n",
        "bakken_data=pd.read_csv(file_path)\n",
        "#Perform some data cleaning to get the columns as the right data type\n",
        "bakken_data['ReportDate']=pd.to_datetime(bakken_data['ReportDate'])\n",
        "#Declare the desired product that we want to curve fit for--it can either by 'Gas' or 'Oil'\n",
        "desired_product_type='Oil'\n",
        "#Remove all rows with null values in the desired time series column\n",
        "bakken_data=remove_nan_and_zeroes_from_columns(bakken_data, desired_product_type)\n",
        "#Get the earliest RecordDate for each API Number\n",
        "bakken_data['Online_Date']= get_min_or_max_value_in_column_by_group(bakken_data, group_by_column='API_WELLNO', \n",
        "              calc_column='ReportDate', calc_type='min')\n",
        "#Generate column for time online delta\n",
        "bakken_data['Days_Online']=generate_time_delta_column(bakken_data, time_column='ReportDate', \n",
        "              date_first_online_column='Online_Date')\n",
        "#Pull data that came online between January and June 2016\n",
        "bakken_data_2016=bakken_data[(bakken_data.Online_Date>='2016-01-01') & (bakken_data.Online_Date<='2016-06-01')]\n",
        "#Get a list of unique API's to loop through--these were randomly selected as examples\n",
        "unique_well_APIs_list=[33023013930000.0, 33105039980000.0, 33105039970000.0, \n",
        "                        33013018230000.0, 33013018220000.0]\n",
        "#Loop through each API, and perform calculations\n",
        "for api_number in unique_well_APIs_list:\n",
        "    #Subset the dataframe by API Number\n",
        "    production_time_series=bakken_data_2016[bakken_data_2016.API_WELLNO==api_number]\n",
        "    #Get the highest value of production in the first three months of production, to use as qi value\n",
        "    qi=get_max_initial_production(production_time_series, 3, desired_product_type, 'ReportDate')\n",
        "    #Exponential curve fit the data to get best fit equation\n",
        "    popt_exp, pcov_exp=curve_fit(exponential_equation, production_time_series['Days_Online'], \n",
        "                                  production_time_series[desired_product_type],bounds=(0, [qi,20]))\n",
        "    print('Exponential Fit Curve-fitted Variables: qi='+str(popt_exp[0])+', di='+str(popt_exp[1]))\n",
        "    #Hyperbolic curve fit the data to get best fit equation\n",
        "    popt_hyp, pcov_hyp=curve_fit(hyperbolic_equation, production_time_series['Days_Online'], \n",
        "                                  production_time_series[desired_product_type],bounds=(0, [qi,2,20]))\n",
        "    print('Hyperbolic Fit Curve-fitted Variables: qi='+str(popt_hyp[0])+', b='+str(popt_hyp[1])+', di='+str(popt_hyp[2]))\n",
        "    #Exponential fit results\n",
        "    production_time_series.loc[:,'Exponential_Predicted']=exponential_equation(production_time_series['Days_Online'], \n",
        "                              *popt_exp)\n",
        "    #Hyperbolic fit results\n",
        "    production_time_series.loc[:,'Hyperbolic_Predicted']=hyperbolic_equation(production_time_series['Days_Online'], \n",
        "                              *popt_hyp)\n",
        "    #Declare the x- and y- variables that we want to plot against each other\n",
        "    y_variables=[desired_product_type, \"Hyperbolic_Predicted\", \"Exponential_Predicted\"]\n",
        "    x_variable='Days_Online'\n",
        "    #Create the plot title\n",
        "    plot_title=desired_product_type+' Production for Well API '+str(api_number)\n",
        "    #Plot the data to visualize the equation fit\n",
        "    plot_actual_vs_predicted_by_equations(production_time_series, x_variable, y_variables, plot_title)"
      ],
      "execution_count": null,
      "outputs": [
        {
          "output_type": "stream",
          "name": "stdout",
          "text": [
            "Exponential Fit Curve-fitted Variables: qi=2190.000000234111, di=10.0\n",
            "Hyperbolic Fit Curve-fitted Variables: qi=5160.820912981083, b=2.69682933845936e-09, di=0.0011848104437766388\n"
          ]
        },
        {
          "output_type": "stream",
          "name": "stderr",
          "text": [
            "/usr/local/lib/python3.7/dist-packages/pandas/core/indexing.py:1596: SettingWithCopyWarning: \n",
            "A value is trying to be set on a copy of a slice from a DataFrame.\n",
            "Try using .loc[row_indexer,col_indexer] = value instead\n",
            "\n",
            "See the caveats in the documentation: https://pandas.pydata.org/pandas-docs/stable/user_guide/indexing.html#returning-a-view-versus-a-copy\n",
            "  self.obj[key] = _infer_fill_value(value)\n",
            "/usr/local/lib/python3.7/dist-packages/pandas/core/indexing.py:1743: SettingWithCopyWarning: \n",
            "A value is trying to be set on a copy of a slice from a DataFrame.\n",
            "Try using .loc[row_indexer,col_indexer] = value instead\n",
            "\n",
            "See the caveats in the documentation: https://pandas.pydata.org/pandas-docs/stable/user_guide/indexing.html#returning-a-view-versus-a-copy\n",
            "  isetter(ilocs[0], value)\n"
          ]
        },
        {
          "output_type": "display_data",
          "data": {
            "image/png": "[encoded data removed]",
            "text/plain": [
              "<Figure size 432x288 with 1 Axes>"
            ]
          },
          "metadata": {
            "needs_background": "light"
          }
        },
        {
          "output_type": "stream",
          "name": "stdout",
          "text": [
            "Exponential Fit Curve-fitted Variables: qi=14265.129272460938, di=10.0\n",
            "Hyperbolic Fit Curve-fitted Variables: qi=13729.778804045358, b=1.7489529749360637, di=0.0184449211674238\n"
          ]
        },
        {
          "output_type": "stream",
          "name": "stderr",
          "text": [
            "/usr/local/lib/python3.7/dist-packages/pandas/core/indexing.py:1596: SettingWithCopyWarning: \n",
            "A value is trying to be set on a copy of a slice from a DataFrame.\n",
            "Try using .loc[row_indexer,col_indexer] = value instead\n",
            "\n",
            "See the caveats in the documentation: https://pandas.pydata.org/pandas-docs/stable/user_guide/indexing.html#returning-a-view-versus-a-copy\n",
            "  self.obj[key] = _infer_fill_value(value)\n",
            "/usr/local/lib/python3.7/dist-packages/pandas/core/indexing.py:1743: SettingWithCopyWarning: \n",
            "A value is trying to be set on a copy of a slice from a DataFrame.\n",
            "Try using .loc[row_indexer,col_indexer] = value instead\n",
            "\n",
            "See the caveats in the documentation: https://pandas.pydata.org/pandas-docs/stable/user_guide/indexing.html#returning-a-view-versus-a-copy\n",
            "  isetter(ilocs[0], value)\n"
          ]
        },
        {
          "output_type": "display_data",
          "data": {
            "image/png": "[encoded data removed]",
            "text/plain": [
              "<Figure size 432x288 with 1 Axes>"
            ]
          },
          "metadata": {
            "needs_background": "light"
          }
        },
        {
          "output_type": "stream",
          "name": "stdout",
          "text": [
            "Exponential Fit Curve-fitted Variables: qi=18190.8896484375, di=10.0\n",
            "Hyperbolic Fit Curve-fitted Variables: qi=18191.999999999985, b=1.7393093391470715, di=0.01806162820747366\n"
          ]
        },
        {
          "output_type": "stream",
          "name": "stderr",
          "text": [
            "/usr/local/lib/python3.7/dist-packages/pandas/core/indexing.py:1596: SettingWithCopyWarning: \n",
            "A value is trying to be set on a copy of a slice from a DataFrame.\n",
            "Try using .loc[row_indexer,col_indexer] = value instead\n",
            "\n",
            "See the caveats in the documentation: https://pandas.pydata.org/pandas-docs/stable/user_guide/indexing.html#returning-a-view-versus-a-copy\n",
            "  self.obj[key] = _infer_fill_value(value)\n",
            "/usr/local/lib/python3.7/dist-packages/pandas/core/indexing.py:1743: SettingWithCopyWarning: \n",
            "A value is trying to be set on a copy of a slice from a DataFrame.\n",
            "Try using .loc[row_indexer,col_indexer] = value instead\n",
            "\n",
            "See the caveats in the documentation: https://pandas.pydata.org/pandas-docs/stable/user_guide/indexing.html#returning-a-view-versus-a-copy\n",
            "  isetter(ilocs[0], value)\n"
          ]
        },
        {
          "output_type": "display_data",
          "data": {
            "image/png": "[encoded data removed]",
            "text/plain": [
              "<Figure size 432x288 with 1 Axes>"
            ]
          },
          "metadata": {
            "needs_background": "light"
          }
        },
        {
          "output_type": "stream",
          "name": "stdout",
          "text": [
            "Exponential Fit Curve-fitted Variables: qi=11070.324279785156, di=10.0\n",
            "Hyperbolic Fit Curve-fitted Variables: qi=11070.999999999995, b=1.2728742940725117, di=0.008797756482321483\n"
          ]
        },
        {
          "output_type": "stream",
          "name": "stderr",
          "text": [
            "/usr/local/lib/python3.7/dist-packages/pandas/core/indexing.py:1596: SettingWithCopyWarning: \n",
            "A value is trying to be set on a copy of a slice from a DataFrame.\n",
            "Try using .loc[row_indexer,col_indexer] = value instead\n",
            "\n",
            "See the caveats in the documentation: https://pandas.pydata.org/pandas-docs/stable/user_guide/indexing.html#returning-a-view-versus-a-copy\n",
            "  self.obj[key] = _infer_fill_value(value)\n",
            "/usr/local/lib/python3.7/dist-packages/pandas/core/indexing.py:1743: SettingWithCopyWarning: \n",
            "A value is trying to be set on a copy of a slice from a DataFrame.\n",
            "Try using .loc[row_indexer,col_indexer] = value instead\n",
            "\n",
            "See the caveats in the documentation: https://pandas.pydata.org/pandas-docs/stable/user_guide/indexing.html#returning-a-view-versus-a-copy\n",
            "  isetter(ilocs[0], value)\n"
          ]
        },
        {
          "output_type": "display_data",
          "data": {
            "image/png": "[encoded data removed]",
            "text/plain": [
              "<Figure size 432x288 with 1 Axes>"
            ]
          },
          "metadata": {
            "needs_background": "light"
          }
        },
        {
          "output_type": "stream",
          "name": "stdout",
          "text": [
            "Exponential Fit Curve-fitted Variables: qi=15498.054016113281, di=10.0\n",
            "Hyperbolic Fit Curve-fitted Variables: qi=15498.999999999998, b=1.2899541332108806, di=0.009474511138539466\n"
          ]
        },
        {
          "output_type": "stream",
          "name": "stderr",
          "text": [
            "/usr/local/lib/python3.7/dist-packages/pandas/core/indexing.py:1596: SettingWithCopyWarning: \n",
            "A value is trying to be set on a copy of a slice from a DataFrame.\n",
            "Try using .loc[row_indexer,col_indexer] = value instead\n",
            "\n",
            "See the caveats in the documentation: https://pandas.pydata.org/pandas-docs/stable/user_guide/indexing.html#returning-a-view-versus-a-copy\n",
            "  self.obj[key] = _infer_fill_value(value)\n",
            "/usr/local/lib/python3.7/dist-packages/pandas/core/indexing.py:1743: SettingWithCopyWarning: \n",
            "A value is trying to be set on a copy of a slice from a DataFrame.\n",
            "Try using .loc[row_indexer,col_indexer] = value instead\n",
            "\n",
            "See the caveats in the documentation: https://pandas.pydata.org/pandas-docs/stable/user_guide/indexing.html#returning-a-view-versus-a-copy\n",
            "  isetter(ilocs[0], value)\n"
          ]
        },
        {
          "output_type": "display_data",
          "data": {
            "image/png": "[encoded data removed]",
            "text/plain": [
              "<Figure size 432x288 with 1 Axes>"
            ]
          },
          "metadata": {
            "needs_background": "light"
          }
        }
      ]
    },
    {
      "cell_type": "code",
      "metadata": {
        "id": "av7wDar2geSx"
      },
      "source": [
        "xls = pd.ExcelFile('/content/Prodn_03-2021.xlsx')\n",
        "df_new = pd.read_excel(xls, 'Prod')"
      ],
      "execution_count": null,
      "outputs": []
    },
    {
      "cell_type": "code",
      "metadata": {
        "colab": {
          "base_uri": "https://localhost:8080/",
          "height": 307
        },
        "id": "gwDD7XCfiMK5",
        "outputId": "2e5f68aa-34e1-4af3-c74c-e22788f656d4"
      },
      "source": [
        "df_new.tail()"
      ],
      "execution_count": null,
      "outputs": [
        {
          "output_type": "execute_result",
          "data": {
            "text/html": [
              "<div>\n",
              "<style scoped>\n",
              "    .dataframe tbody tr th:only-of-type {\n",
              "        vertical-align: middle;\n",
              "    }\n",
              "\n",
              "    .dataframe tbody tr th {\n",
              "        vertical-align: top;\n",
              "    }\n",
              "\n",
              "    .dataframe thead th {\n",
              "        text-align: right;\n",
              "    }\n",
              "</style>\n",
              "<table border=\"1\" class=\"dataframe\">\n",
              "  <thead>\n",
              "    <tr style=\"text-align: right;\">\n",
              "      <th></th>\n",
              "      <th>FIELD</th>\n",
              "      <th>yr-no</th>\n",
              "      <th>MTH</th>\n",
              "      <th>YR</th>\n",
              "      <th>Month</th>\n",
              "      <th>FY</th>\n",
              "      <th>fin_yr</th>\n",
              "      <th>Date</th>\n",
              "      <th>welno1</th>\n",
              "      <th>WLNO</th>\n",
              "      <th>SAND</th>\n",
              "      <th>Block</th>\n",
              "      <th>Lease</th>\n",
              "      <th>BEAN</th>\n",
              "      <th>WC</th>\n",
              "      <th>FDAYS</th>\n",
              "      <th>Ql</th>\n",
              "      <th>LIQUID</th>\n",
              "      <th>WATER</th>\n",
              "      <th>OILCM</th>\n",
              "      <th>OILMT</th>\n",
              "      <th>Qg</th>\n",
              "      <th>YLIQ</th>\n",
              "      <th>YWAT</th>\n",
              "      <th>YOILCM</th>\n",
              "      <th>YOILMT</th>\n",
              "      <th>Cumliq</th>\n",
              "      <th>Cumwater</th>\n",
              "      <th>TOILCM</th>\n",
              "      <th>CumoilMt</th>\n",
              "    </tr>\n",
              "  </thead>\n",
              "  <tbody>\n",
              "    <tr>\n",
              "      <th>4064</th>\n",
              "      <td>MANSA</td>\n",
              "      <td>2021.25</td>\n",
              "      <td>3</td>\n",
              "      <td>2021</td>\n",
              "      <td>2021-03-01</td>\n",
              "      <td>2020-2021</td>\n",
              "      <td>2021-22</td>\n",
              "      <td>2021-03-15</td>\n",
              "      <td>NaN</td>\n",
              "      <td>MAN48</td>\n",
              "      <td>0</td>\n",
              "      <td>NaN</td>\n",
              "      <td>NaN</td>\n",
              "      <td>NaN</td>\n",
              "      <td>0.0</td>\n",
              "      <td>0.0</td>\n",
              "      <td>0.0</td>\n",
              "      <td>0.0</td>\n",
              "      <td>0.0</td>\n",
              "      <td>0.0</td>\n",
              "      <td>0.0</td>\n",
              "      <td>NaN</td>\n",
              "      <td>0.000000</td>\n",
              "      <td>0.000</td>\n",
              "      <td>0.000000</td>\n",
              "      <td>0.000000</td>\n",
              "      <td>277.313712</td>\n",
              "      <td>193.699</td>\n",
              "      <td>83.614712</td>\n",
              "      <td>70.886782</td>\n",
              "    </tr>\n",
              "    <tr>\n",
              "      <th>4065</th>\n",
              "      <td>MANSA</td>\n",
              "      <td>2021.25</td>\n",
              "      <td>3</td>\n",
              "      <td>2021</td>\n",
              "      <td>2021-03-01</td>\n",
              "      <td>2020-2021</td>\n",
              "      <td>2021-22</td>\n",
              "      <td>2021-03-15</td>\n",
              "      <td>NaN</td>\n",
              "      <td>MAN49</td>\n",
              "      <td>NaN</td>\n",
              "      <td>NaN</td>\n",
              "      <td>NaN</td>\n",
              "      <td>NaN</td>\n",
              "      <td>0.0</td>\n",
              "      <td>0.0</td>\n",
              "      <td>0.0</td>\n",
              "      <td>0.0</td>\n",
              "      <td>0.0</td>\n",
              "      <td>0.0</td>\n",
              "      <td>0.0</td>\n",
              "      <td>NaN</td>\n",
              "      <td>0.000000</td>\n",
              "      <td>0.000</td>\n",
              "      <td>0.000000</td>\n",
              "      <td>0.000000</td>\n",
              "      <td>0.000000</td>\n",
              "      <td>0.000</td>\n",
              "      <td>0.000000</td>\n",
              "      <td>0.000000</td>\n",
              "    </tr>\n",
              "    <tr>\n",
              "      <th>4066</th>\n",
              "      <td>MANSA</td>\n",
              "      <td>2021.25</td>\n",
              "      <td>3</td>\n",
              "      <td>2021</td>\n",
              "      <td>2021-03-01</td>\n",
              "      <td>2020-2021</td>\n",
              "      <td>2021-22</td>\n",
              "      <td>2021-03-15</td>\n",
              "      <td>NaN</td>\n",
              "      <td>MAN5</td>\n",
              "      <td>MP-III</td>\n",
              "      <td>NaN</td>\n",
              "      <td>NaN</td>\n",
              "      <td>NaN</td>\n",
              "      <td>0.0</td>\n",
              "      <td>0.0</td>\n",
              "      <td>0.0</td>\n",
              "      <td>0.0</td>\n",
              "      <td>0.0</td>\n",
              "      <td>0.0</td>\n",
              "      <td>0.0</td>\n",
              "      <td>NaN</td>\n",
              "      <td>185.298294</td>\n",
              "      <td>154.523</td>\n",
              "      <td>30.775294</td>\n",
              "      <td>26.091279</td>\n",
              "      <td>2616.873235</td>\n",
              "      <td>609.438</td>\n",
              "      <td>2006.505235</td>\n",
              "      <td>1718.301089</td>\n",
              "    </tr>\n",
              "    <tr>\n",
              "      <th>4067</th>\n",
              "      <td>MANSA</td>\n",
              "      <td>2021.25</td>\n",
              "      <td>3</td>\n",
              "      <td>2021</td>\n",
              "      <td>2021-03-01</td>\n",
              "      <td>2020-2021</td>\n",
              "      <td>2021-22</td>\n",
              "      <td>2021-03-15</td>\n",
              "      <td>NaN</td>\n",
              "      <td>MAN7</td>\n",
              "      <td>MP-II</td>\n",
              "      <td>NaN</td>\n",
              "      <td>NaN</td>\n",
              "      <td>NaN</td>\n",
              "      <td>0.0</td>\n",
              "      <td>0.0</td>\n",
              "      <td>0.0</td>\n",
              "      <td>0.0</td>\n",
              "      <td>0.0</td>\n",
              "      <td>0.0</td>\n",
              "      <td>0.0</td>\n",
              "      <td>NaN</td>\n",
              "      <td>0.000000</td>\n",
              "      <td>0.000</td>\n",
              "      <td>0.000000</td>\n",
              "      <td>0.000000</td>\n",
              "      <td>5943.410000</td>\n",
              "      <td>304.010</td>\n",
              "      <td>5638.610000</td>\n",
              "      <td>4775.690000</td>\n",
              "    </tr>\n",
              "    <tr>\n",
              "      <th>4068</th>\n",
              "      <td>MANSA</td>\n",
              "      <td>2021.25</td>\n",
              "      <td>3</td>\n",
              "      <td>2021</td>\n",
              "      <td>2021-03-01</td>\n",
              "      <td>2020-2021</td>\n",
              "      <td>2021-22</td>\n",
              "      <td>2021-03-15</td>\n",
              "      <td>NaN</td>\n",
              "      <td>MAN9</td>\n",
              "      <td>MP-I+II</td>\n",
              "      <td>NaN</td>\n",
              "      <td>NaN</td>\n",
              "      <td>NaN</td>\n",
              "      <td>0.0</td>\n",
              "      <td>0.0</td>\n",
              "      <td>0.0</td>\n",
              "      <td>0.0</td>\n",
              "      <td>0.0</td>\n",
              "      <td>0.0</td>\n",
              "      <td>0.0</td>\n",
              "      <td>NaN</td>\n",
              "      <td>0.000000</td>\n",
              "      <td>0.000</td>\n",
              "      <td>0.000000</td>\n",
              "      <td>0.000000</td>\n",
              "      <td>8983.400000</td>\n",
              "      <td>758.610</td>\n",
              "      <td>8222.670000</td>\n",
              "      <td>7031.240000</td>\n",
              "    </tr>\n",
              "  </tbody>\n",
              "</table>\n",
              "</div>"
            ],
            "text/plain": [
              "      FIELD    yr-no  MTH  ...  Cumwater       TOILCM     CumoilMt\n",
              "4064  MANSA  2021.25    3  ...   193.699    83.614712    70.886782\n",
              "4065  MANSA  2021.25    3  ...     0.000     0.000000     0.000000\n",
              "4066  MANSA  2021.25    3  ...   609.438  2006.505235  1718.301089\n",
              "4067  MANSA  2021.25    3  ...   304.010  5638.610000  4775.690000\n",
              "4068  MANSA  2021.25    3  ...   758.610  8222.670000  7031.240000\n",
              "\n",
              "[5 rows x 30 columns]"
            ]
          },
          "metadata": {},
          "execution_count": 63
        }
      ]
    },
    {
      "cell_type": "code",
      "metadata": {
        "colab": {
          "base_uri": "https://localhost:8080/"
        },
        "id": "_IavJizUjr9H",
        "outputId": "9202bbb8-f5be-41f0-bd61-e0aff7fbda1f"
      },
      "source": [
        "df_new.columns"
      ],
      "execution_count": null,
      "outputs": [
        {
          "output_type": "execute_result",
          "data": {
            "text/plain": [
              "Index(['FIELD', 'yr-no', 'MTH', 'YR', 'Month', 'FY', 'fin_yr', 'Date',\n",
              "       'welno1', 'WLNO', 'SAND', 'Block', 'Lease', 'BEAN', 'WC', 'FDAYS', 'Ql',\n",
              "       'LIQUID', 'WATER', 'OILCM', 'OILMT', 'Qg', 'YLIQ', 'YWAT', 'YOILCM',\n",
              "       'YOILMT', 'Cumliq', 'Cumwater', 'TOILCM', 'CumoilMt'],\n",
              "      dtype='object')"
            ]
          },
          "metadata": {},
          "execution_count": 64
        }
      ]
    },
    {
      "cell_type": "code",
      "metadata": {
        "id": "shpfdoDTiR79"
      },
      "source": [
        "drop_columns = ['FIELD', 'yr-no','MTH', 'YR','FY', 'fin_yr', 'Date','welno1','WLNO','SAND', 'Block', \n",
        "           'Lease', 'BEAN', 'WC', 'Ql','LIQUID','OILMT', 'Qg', 'YLIQ', 'YWAT', 'YOILCM',\n",
        "       'YOILMT', 'Cumliq', 'Cumwater', 'TOILCM', 'CumoilMt']"
      ],
      "execution_count": null,
      "outputs": []
    },
    {
      "cell_type": "code",
      "metadata": {
        "id": "z9jXKhiamGQk"
      },
      "source": [
        "df_new = df_new.drop(columns = drop_columns)"
      ],
      "execution_count": null,
      "outputs": []
    },
    {
      "cell_type": "code",
      "metadata": {
        "colab": {
          "base_uri": "https://localhost:8080/",
          "height": 203
        },
        "id": "UV_p9e8kmMtD",
        "outputId": "f56c6ebd-c8e9-40dc-aff5-cc2ff98a321e"
      },
      "source": [
        "df_new.head()"
      ],
      "execution_count": null,
      "outputs": [
        {
          "output_type": "execute_result",
          "data": {
            "text/html": [
              "<div>\n",
              "<style scoped>\n",
              "    .dataframe tbody tr th:only-of-type {\n",
              "        vertical-align: middle;\n",
              "    }\n",
              "\n",
              "    .dataframe tbody tr th {\n",
              "        vertical-align: top;\n",
              "    }\n",
              "\n",
              "    .dataframe thead th {\n",
              "        text-align: right;\n",
              "    }\n",
              "</style>\n",
              "<table border=\"1\" class=\"dataframe\">\n",
              "  <thead>\n",
              "    <tr style=\"text-align: right;\">\n",
              "      <th></th>\n",
              "      <th>Month</th>\n",
              "      <th>FDAYS</th>\n",
              "      <th>WATER</th>\n",
              "      <th>OILCM</th>\n",
              "    </tr>\n",
              "  </thead>\n",
              "  <tbody>\n",
              "    <tr>\n",
              "      <th>0</th>\n",
              "      <td>1993-04-01</td>\n",
              "      <td>NaN</td>\n",
              "      <td>0.0</td>\n",
              "      <td>0.0</td>\n",
              "    </tr>\n",
              "    <tr>\n",
              "      <th>1</th>\n",
              "      <td>1993-04-01</td>\n",
              "      <td>NaN</td>\n",
              "      <td>0.0</td>\n",
              "      <td>0.0</td>\n",
              "    </tr>\n",
              "    <tr>\n",
              "      <th>2</th>\n",
              "      <td>1993-05-01</td>\n",
              "      <td>NaN</td>\n",
              "      <td>0.0</td>\n",
              "      <td>0.0</td>\n",
              "    </tr>\n",
              "    <tr>\n",
              "      <th>3</th>\n",
              "      <td>1993-05-01</td>\n",
              "      <td>NaN</td>\n",
              "      <td>0.0</td>\n",
              "      <td>0.0</td>\n",
              "    </tr>\n",
              "    <tr>\n",
              "      <th>4</th>\n",
              "      <td>1993-06-01</td>\n",
              "      <td>NaN</td>\n",
              "      <td>0.0</td>\n",
              "      <td>0.0</td>\n",
              "    </tr>\n",
              "  </tbody>\n",
              "</table>\n",
              "</div>"
            ],
            "text/plain": [
              "       Month  FDAYS  WATER  OILCM\n",
              "0 1993-04-01    NaN    0.0    0.0\n",
              "1 1993-04-01    NaN    0.0    0.0\n",
              "2 1993-05-01    NaN    0.0    0.0\n",
              "3 1993-05-01    NaN    0.0    0.0\n",
              "4 1993-06-01    NaN    0.0    0.0"
            ]
          },
          "metadata": {},
          "execution_count": 67
        }
      ]
    },
    {
      "cell_type": "code",
      "metadata": {
        "id": "GLFTQwh4rNxr"
      },
      "source": [
        "df_new['Month']=pd.to_datetime(df_new['Month'])\n",
        "df_new = df_new[(df_new['WATER'].notnull()) & (df_new['WATER']>0)]\n",
        "df_new = df_new[(df_new['OILCM'].notnull()) & (df_new['OILCM']>0)]\n",
        "df_new = df_new = df_new[(df_new['FDAYS'].notnull()) & (df_new['FDAYS']>0)]"
      ],
      "execution_count": null,
      "outputs": []
    },
    {
      "cell_type": "code",
      "metadata": {
        "colab": {
          "base_uri": "https://localhost:8080/",
          "height": 203
        },
        "id": "6D2tOFC4tCJu",
        "outputId": "85104301-f102-4c3d-e4fa-7538de27beed"
      },
      "source": [
        "df_new.head()"
      ],
      "execution_count": null,
      "outputs": [
        {
          "output_type": "execute_result",
          "data": {
            "text/html": [
              "<div>\n",
              "<style scoped>\n",
              "    .dataframe tbody tr th:only-of-type {\n",
              "        vertical-align: middle;\n",
              "    }\n",
              "\n",
              "    .dataframe tbody tr th {\n",
              "        vertical-align: top;\n",
              "    }\n",
              "\n",
              "    .dataframe thead th {\n",
              "        text-align: right;\n",
              "    }\n",
              "</style>\n",
              "<table border=\"1\" class=\"dataframe\">\n",
              "  <thead>\n",
              "    <tr style=\"text-align: right;\">\n",
              "      <th></th>\n",
              "      <th>Month</th>\n",
              "      <th>FDAYS</th>\n",
              "      <th>WATER</th>\n",
              "      <th>OILCM</th>\n",
              "    </tr>\n",
              "  </thead>\n",
              "  <tbody>\n",
              "    <tr>\n",
              "      <th>57</th>\n",
              "      <td>1995-03-01</td>\n",
              "      <td>22.6</td>\n",
              "      <td>146.50</td>\n",
              "      <td>439.53</td>\n",
              "    </tr>\n",
              "    <tr>\n",
              "      <th>58</th>\n",
              "      <td>1995-03-01</td>\n",
              "      <td>12.4</td>\n",
              "      <td>0.86</td>\n",
              "      <td>106.71</td>\n",
              "    </tr>\n",
              "    <tr>\n",
              "      <th>59</th>\n",
              "      <td>1995-03-01</td>\n",
              "      <td>0.4</td>\n",
              "      <td>1.50</td>\n",
              "      <td>1.94</td>\n",
              "    </tr>\n",
              "    <tr>\n",
              "      <th>62</th>\n",
              "      <td>1995-04-01</td>\n",
              "      <td>17.5</td>\n",
              "      <td>64.48</td>\n",
              "      <td>193.41</td>\n",
              "    </tr>\n",
              "    <tr>\n",
              "      <th>63</th>\n",
              "      <td>1995-04-01</td>\n",
              "      <td>16.7</td>\n",
              "      <td>1.64</td>\n",
              "      <td>80.39</td>\n",
              "    </tr>\n",
              "  </tbody>\n",
              "</table>\n",
              "</div>"
            ],
            "text/plain": [
              "        Month  FDAYS   WATER   OILCM\n",
              "57 1995-03-01   22.6  146.50  439.53\n",
              "58 1995-03-01   12.4    0.86  106.71\n",
              "59 1995-03-01    0.4    1.50    1.94\n",
              "62 1995-04-01   17.5   64.48  193.41\n",
              "63 1995-04-01   16.7    1.64   80.39"
            ]
          },
          "metadata": {},
          "execution_count": 69
        }
      ]
    },
    {
      "cell_type": "code",
      "metadata": {
        "colab": {
          "base_uri": "https://localhost:8080/",
          "height": 447
        },
        "id": "M5-qzDqwupK6",
        "outputId": "4e5d5b8a-8ccd-4e1f-c9be-f89b780c6d33"
      },
      "source": [
        "df_new.groupby(['Month']).sum()"
      ],
      "execution_count": null,
      "outputs": [
        {
          "output_type": "execute_result",
          "data": {
            "text/html": [
              "<div>\n",
              "<style scoped>\n",
              "    .dataframe tbody tr th:only-of-type {\n",
              "        vertical-align: middle;\n",
              "    }\n",
              "\n",
              "    .dataframe tbody tr th {\n",
              "        vertical-align: top;\n",
              "    }\n",
              "\n",
              "    .dataframe thead th {\n",
              "        text-align: right;\n",
              "    }\n",
              "</style>\n",
              "<table border=\"1\" class=\"dataframe\">\n",
              "  <thead>\n",
              "    <tr style=\"text-align: right;\">\n",
              "      <th></th>\n",
              "      <th>FDAYS</th>\n",
              "      <th>WATER</th>\n",
              "      <th>OILCM</th>\n",
              "    </tr>\n",
              "    <tr>\n",
              "      <th>Month</th>\n",
              "      <th></th>\n",
              "      <th></th>\n",
              "      <th></th>\n",
              "    </tr>\n",
              "  </thead>\n",
              "  <tbody>\n",
              "    <tr>\n",
              "      <th>1995-03-01</th>\n",
              "      <td>35.4</td>\n",
              "      <td>148.86</td>\n",
              "      <td>548.180000</td>\n",
              "    </tr>\n",
              "    <tr>\n",
              "      <th>1995-04-01</th>\n",
              "      <td>57.5</td>\n",
              "      <td>103.63</td>\n",
              "      <td>377.530000</td>\n",
              "    </tr>\n",
              "    <tr>\n",
              "      <th>1995-05-01</th>\n",
              "      <td>71.3</td>\n",
              "      <td>127.63</td>\n",
              "      <td>358.540000</td>\n",
              "    </tr>\n",
              "    <tr>\n",
              "      <th>1995-06-01</th>\n",
              "      <td>63.8</td>\n",
              "      <td>134.29</td>\n",
              "      <td>351.920000</td>\n",
              "    </tr>\n",
              "    <tr>\n",
              "      <th>1995-07-01</th>\n",
              "      <td>62.0</td>\n",
              "      <td>124.30</td>\n",
              "      <td>307.040000</td>\n",
              "    </tr>\n",
              "    <tr>\n",
              "      <th>...</th>\n",
              "      <td>...</td>\n",
              "      <td>...</td>\n",
              "      <td>...</td>\n",
              "    </tr>\n",
              "    <tr>\n",
              "      <th>2020-11-01</th>\n",
              "      <td>150.0</td>\n",
              "      <td>384.00</td>\n",
              "      <td>358.695813</td>\n",
              "    </tr>\n",
              "    <tr>\n",
              "      <th>2020-12-01</th>\n",
              "      <td>155.0</td>\n",
              "      <td>396.00</td>\n",
              "      <td>367.258072</td>\n",
              "    </tr>\n",
              "    <tr>\n",
              "      <th>2021-01-01</th>\n",
              "      <td>155.0</td>\n",
              "      <td>381.00</td>\n",
              "      <td>375.014816</td>\n",
              "    </tr>\n",
              "    <tr>\n",
              "      <th>2021-02-01</th>\n",
              "      <td>140.0</td>\n",
              "      <td>357.00</td>\n",
              "      <td>305.072164</td>\n",
              "    </tr>\n",
              "    <tr>\n",
              "      <th>2021-03-01</th>\n",
              "      <td>155.0</td>\n",
              "      <td>402.00</td>\n",
              "      <td>346.036920</td>\n",
              "    </tr>\n",
              "  </tbody>\n",
              "</table>\n",
              "<p>306 rows × 3 columns</p>\n",
              "</div>"
            ],
            "text/plain": [
              "            FDAYS   WATER       OILCM\n",
              "Month                                \n",
              "1995-03-01   35.4  148.86  548.180000\n",
              "1995-04-01   57.5  103.63  377.530000\n",
              "1995-05-01   71.3  127.63  358.540000\n",
              "1995-06-01   63.8  134.29  351.920000\n",
              "1995-07-01   62.0  124.30  307.040000\n",
              "...           ...     ...         ...\n",
              "2020-11-01  150.0  384.00  358.695813\n",
              "2020-12-01  155.0  396.00  367.258072\n",
              "2021-01-01  155.0  381.00  375.014816\n",
              "2021-02-01  140.0  357.00  305.072164\n",
              "2021-03-01  155.0  402.00  346.036920\n",
              "\n",
              "[306 rows x 3 columns]"
            ]
          },
          "metadata": {},
          "execution_count": 70
        }
      ]
    },
    {
      "cell_type": "code",
      "metadata": {
        "id": "xY8b7XjXyppa"
      },
      "source": [
        "df_new = df_new.drop(columns=['Month'])"
      ],
      "execution_count": null,
      "outputs": []
    },
    {
      "cell_type": "code",
      "metadata": {
        "colab": {
          "base_uri": "https://localhost:8080/",
          "height": 295
        },
        "id": "KOm9mvHXzKCR",
        "outputId": "0f67deb1-2c74-4ddf-ef51-19160aae3946"
      },
      "source": [
        "df_new.describe()"
      ],
      "execution_count": null,
      "outputs": [
        {
          "output_type": "execute_result",
          "data": {
            "text/html": [
              "<div>\n",
              "<style scoped>\n",
              "    .dataframe tbody tr th:only-of-type {\n",
              "        vertical-align: middle;\n",
              "    }\n",
              "\n",
              "    .dataframe tbody tr th {\n",
              "        vertical-align: top;\n",
              "    }\n",
              "\n",
              "    .dataframe thead th {\n",
              "        text-align: right;\n",
              "    }\n",
              "</style>\n",
              "<table border=\"1\" class=\"dataframe\">\n",
              "  <thead>\n",
              "    <tr style=\"text-align: right;\">\n",
              "      <th></th>\n",
              "      <th>FDAYS</th>\n",
              "      <th>WATER</th>\n",
              "      <th>OILCM</th>\n",
              "    </tr>\n",
              "  </thead>\n",
              "  <tbody>\n",
              "    <tr>\n",
              "      <th>count</th>\n",
              "      <td>1665.000000</td>\n",
              "      <td>1665.000000</td>\n",
              "      <td>1665.000000</td>\n",
              "    </tr>\n",
              "    <tr>\n",
              "      <th>mean</th>\n",
              "      <td>20.924046</td>\n",
              "      <td>25.242581</td>\n",
              "      <td>59.580821</td>\n",
              "    </tr>\n",
              "    <tr>\n",
              "      <th>std</th>\n",
              "      <td>9.687405</td>\n",
              "      <td>47.088134</td>\n",
              "      <td>98.461811</td>\n",
              "    </tr>\n",
              "    <tr>\n",
              "      <th>min</th>\n",
              "      <td>0.250000</td>\n",
              "      <td>0.010000</td>\n",
              "      <td>0.060000</td>\n",
              "    </tr>\n",
              "    <tr>\n",
              "      <th>25%</th>\n",
              "      <td>14.000000</td>\n",
              "      <td>1.260000</td>\n",
              "      <td>10.980000</td>\n",
              "    </tr>\n",
              "    <tr>\n",
              "      <th>50%</th>\n",
              "      <td>23.200000</td>\n",
              "      <td>6.260000</td>\n",
              "      <td>25.660000</td>\n",
              "    </tr>\n",
              "    <tr>\n",
              "      <th>75%</th>\n",
              "      <td>30.000000</td>\n",
              "      <td>27.340000</td>\n",
              "      <td>63.039073</td>\n",
              "    </tr>\n",
              "    <tr>\n",
              "      <th>max</th>\n",
              "      <td>31.000000</td>\n",
              "      <td>460.090000</td>\n",
              "      <td>878.660000</td>\n",
              "    </tr>\n",
              "  </tbody>\n",
              "</table>\n",
              "</div>"
            ],
            "text/plain": [
              "             FDAYS        WATER        OILCM\n",
              "count  1665.000000  1665.000000  1665.000000\n",
              "mean     20.924046    25.242581    59.580821\n",
              "std       9.687405    47.088134    98.461811\n",
              "min       0.250000     0.010000     0.060000\n",
              "25%      14.000000     1.260000    10.980000\n",
              "50%      23.200000     6.260000    25.660000\n",
              "75%      30.000000    27.340000    63.039073\n",
              "max      31.000000   460.090000   878.660000"
            ]
          },
          "metadata": {},
          "execution_count": 79
        }
      ]
    },
    {
      "cell_type": "code",
      "metadata": {
        "id": "CPKb5fV6mPUe"
      },
      "source": [
        "\n",
        "#Perform some data cleaning to get the columns as the right data type\n",
        "df_new['Month']=pd.to_datetime(df_new['Month'])\n",
        "#Declare the desired product that we want to curve fit for--it can either by 'Gas' or 'Oil'\n",
        "\n",
        "#Get the earliest RecordDate for each API Number\n",
        "# bakken_data['Online_Date']= get_min_or_max_value_in_column_by_group(bakken_data, group_by_column='API_WELLNO', \n",
        "#               calc_column='ReportDate', calc_type='min')\n",
        "# #Generate column for time online delta\n",
        "# bakken_data['Days_Online']=generate_time_delta_column(bakken_data, time_column='ReportDate', \n",
        "#               date_first_online_column='Online_Date')\n",
        "#Pull data that came online between January and June 2016\n",
        "# bakken_data_2016=bakken_data[(bakken_data.Online_Date>='2016-01-01') & (bakken_data.Online_Date<='2016-06-01')]\n",
        "#Get a list of unique API's to loop through--these were randomly selected as examples\n",
        "# unique_well_APIs_list=[33023013930000.0, 33105039980000.0, 33105039970000.0, \n",
        "#                         33013018230000.0, 33013018220000.0]\n",
        "#Loop through each API, and perform calculations\n",
        "for api_number in unique_well_APIs_list:\n",
        "    #Subset the dataframe by API Number\n",
        "    production_time_series=bakken_data_2016[bakken_data_2016.API_WELLNO==api_number]\n",
        "    #Get the highest value of production in the first three months of production, to use as qi value\n",
        "    qi=get_max_initial_production(production_time_series, 3, desired_product_type, 'ReportDate')\n",
        "    #Exponential curve fit the data to get best fit equation\n",
        "    popt_exp, pcov_exp=curve_fit(exponential_equation, production_time_series['Days_Online'], \n",
        "                                  production_time_series[desired_product_type],bounds=(0, [qi,20]))\n",
        "    print('Exponential Fit Curve-fitted Variables: qi='+str(popt_exp[0])+', di='+str(popt_exp[1]))\n",
        "    #Hyperbolic curve fit the data to get best fit equation\n",
        "    popt_hyp, pcov_hyp=curve_fit(hyperbolic_equation, production_time_series['Days_Online'], \n",
        "                                  production_time_series[desired_product_type],bounds=(0, [qi,2,20]))\n",
        "    print('Hyperbolic Fit Curve-fitted Variables: qi='+str(popt_hyp[0])+', b='+str(popt_hyp[1])+', di='+str(popt_hyp[2]))\n",
        "    #Exponential fit results\n",
        "    production_time_series.loc[:,'Exponential_Predicted']=exponential_equation(production_time_series['Days_Online'], \n",
        "                              *popt_exp)\n",
        "    #Hyperbolic fit results\n",
        "    production_time_series.loc[:,'Hyperbolic_Predicted']=hyperbolic_equation(production_time_series['Days_Online'], \n",
        "                              *popt_hyp)\n",
        "    #Declare the x- and y- variables that we want to plot against each other\n",
        "    y_variables=[desired_product_type, \"Hyperbolic_Predicted\", \"Exponential_Predicted\"]\n",
        "    x_variable='Days_Online'\n",
        "    #Create the plot title\n",
        "    plot_title=desired_product_type+' Production for Well API '+str(api_number)\n",
        "    #Plot the data to visualize the equation fit\n",
        "    plot_actual_vs_predicted_by_equations(production_time_series, x_variable, y_variables, plot_title)\n",
        "\n"
      ],
      "execution_count": null,
      "outputs": []
    },
    {
      "cell_type": "code",
      "metadata": {
        "id": "07DUK0hvp4-K"
      },
      "source": [
        "df_new['Month']=pd.to_datetime(df_new['Month'])\n",
        "#Declare the desired product that we want to curve fit for--it can either by 'Gas' or 'Oil'\n",
        "df_new = df_new[(df_new['WATER'].notnull()) & (df_new['WATER']>0)]\n",
        "df_new = df_new[(df_new['OILCM'].notnull()) & (df_new['OILCM']>0)]"
      ],
      "execution_count": null,
      "outputs": []
    },
    {
      "cell_type": "code",
      "metadata": {
        "id": "zTjXV_p1p5xg"
      },
      "source": [
        "  qi=get_max_initial_production(df_new,3, 'OILCM', 'Month')"
      ],
      "execution_count": null,
      "outputs": []
    },
    {
      "cell_type": "code",
      "metadata": {
        "id": "muT8wscRp70u"
      },
      "source": [
        "popt_exp, pcov_exp=curve_fit(exponential_equation, df_new['FDAYS'], \n",
        "                                  df_new['OILCM'],bounds=(0, [qi,850]))\n"
      ],
      "execution_count": null,
      "outputs": []
    },
    {
      "cell_type": "code",
      "metadata": {
        "colab": {
          "base_uri": "https://localhost:8080/"
        },
        "id": "Wgq7435aqZPm",
        "outputId": "1d3c75ea-57d6-401e-b5f6-23473f974be1"
      },
      "source": [
        " print('Exponential Fit Curve-fitted Variables: qi='+str(popt_exp[0])+', di='+str(popt_exp[1]))"
      ],
      "execution_count": null,
      "outputs": [
        {
          "output_type": "stream",
          "name": "stdout",
          "text": [
            "Exponential Fit Curve-fitted Variables: qi=171.095, di=425.0\n"
          ]
        }
      ]
    },
    {
      "cell_type": "code",
      "metadata": {
        "id": "kd5_q41f1cda"
      },
      "source": [
        "df_new.loc[:,'Exponential_Predicted']=exponential_equation(df_new['FDAYS'], \n",
        "                                  *popt_exp)"
      ],
      "execution_count": null,
      "outputs": []
    },
    {
      "cell_type": "code",
      "metadata": {
        "colab": {
          "base_uri": "https://localhost:8080/",
          "height": 295
        },
        "id": "BmbV6rlf0AHn",
        "outputId": "6c700cce-3438-459f-d702-1889ac772aee"
      },
      "source": [
        "y_variables=['OILCM', \"Exponential_Predicted\"]\n",
        "\n",
        "x_variable='FDAYS'\n",
        "plot_title= 'oilprods'\n",
        "plot_actual_vs_predicted_by_equations(df_new, x_variable, y_variables, plot_title)"
      ],
      "execution_count": null,
      "outputs": [
        {
          "output_type": "display_data",
          "data": {
            "image/png": "[encoded data removed]",
            "text/plain": [
              "<Figure size 432x288 with 1 Axes>"
            ]
          },
          "metadata": {
            "needs_background": "light"
          }
        }
      ]
    },
    {
      "cell_type": "code",
      "metadata": {
        "id": "gt7ECeDmyf53"
      },
      "source": [
        " "
      ],
      "execution_count": null,
      "outputs": []
    }
  ]
}