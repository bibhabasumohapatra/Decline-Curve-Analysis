{
  "nbformat": 4,
  "nbformat_minor": 0,
  "metadata": {
    "colab": {
      "name": "OIL fields part 2.ipynb",
      "provenance": [],
      "mount_file_id": "1Xl7unwEH3VIWhYsgVk2CZkR_sqyOcXkH",
      "authorship_tag": "ABX9TyNIZ7zv1qTrwTb2W/boI1/5",
      "include_colab_link": true
    },
    "kernelspec": {
      "name": "python3",
      "display_name": "Python 3"
    },
    "language_info": {
      "name": "python"
    }
  },
  "cells": [
    {
      "cell_type": "markdown",
      "metadata": {
        "id": "view-in-github",
        "colab_type": "text"
      },
      "source": [
        "<a href=\"https://colab.research.google.com/github/bibhabasumohapatra/Decline-Curve-Analysis/blob/main/OIL_fields_part_2.ipynb\" target=\"_parent\"><img src=\"https://colab.research.google.com/assets/colab-badge.svg\" alt=\"Open In Colab\"/></a>"
      ]
    },
    {
      "cell_type": "markdown",
      "metadata": {
        "id": "Mz6krqZgt5PN"
      },
      "source": [
        "LIBRARIES IMPORT"
      ]
    },
    {
      "cell_type": "code",
      "metadata": {
        "id": "D3u9Zz3Etx2Z"
      },
      "source": [
        "import pandas as pd\n",
        "from scipy.optimize import curve_fit\n",
        "import torch.optim as optim\n",
        "import numpy as np\n",
        "import matplotlib.pyplot as plt"
      ],
      "execution_count": null,
      "outputs": []
    },
    {
      "cell_type": "markdown",
      "metadata": {
        "id": "UlUODz57uDis"
      },
      "source": [
        "\n",
        "---------\n",
        "1. Hyperbolic\n",
        "\n",
        "\n",
        "```\n",
        "#  Hyperbolic decline curve equation\n",
        "    Arguments:\n",
        "        t: Float. Time since the well first came online, can be in various units \n",
        "        (days, months, etc) so long as they are consistent.\n",
        "        qi: Float. Initial production rate when well first came online.\n",
        "        b: Float. Hyperbolic decline constant\n",
        "        di: Float. Nominal decline rate at time t=0\n",
        "        q = qi/((1.0+b*di*t)**(1.0/b))\n",
        "        return q\n",
        "```\n",
        "\n",
        "\n",
        "---------\n",
        "2. Exponential\n",
        "\n",
        "\n",
        "```\n",
        "#    Exponential decline curve equation\n",
        "    Arguments:\n",
        "        t: Float. Time since the well first came online, can be in various units \n",
        "        (days, months, etc) so long as they are consistent.\n",
        "        qi: Float. Initial production rate when well first came online.\n",
        "        di: Float. Nominal decline rate (constant)\n",
        "    Output: \n",
        "        Returns q\n",
        "        q = qi*np.exp(-di*t)\n",
        "```\n",
        "\n",
        "\n",
        "---------\n"
      ]
    },
    {
      "cell_type": "code",
      "metadata": {
        "id": "T88ULLK5s_F6"
      },
      "source": [
        "path = '/content/drive/MyDrive/Prodn_03-2021 - Prod.csv'"
      ],
      "execution_count": null,
      "outputs": []
    },
    {
      "cell_type": "code",
      "metadata": {
        "id": "6YvY9COk-Cj2"
      },
      "source": [
        "def hyperbolic_equation(t, qi, b, di):\n",
        "    return qi/((1.0+b*di*t)**(1.0/b))\n",
        "\n",
        "def exponential_equation(t, qi, di):\n",
        "    return qi*np.exp(-di*t)"
      ],
      "execution_count": null,
      "outputs": []
    },
    {
      "cell_type": "code",
      "metadata": {
        "id": "fxEo5q47AxQ9"
      },
      "source": [
        "def plot_actual_vs_predicted_by_equations(df, x_variable, y_variables, plot_title):\n",
        "    #Plot results\n",
        "    df.plot(x=x_variable, y=y_variables, title=plot_title)\n",
        "    \n",
        "    plt.show()"
      ],
      "execution_count": null,
      "outputs": []
    },
    {
      "cell_type": "code",
      "metadata": {
        "id": "oNBPhn_Mt93z"
      },
      "source": [
        "df = pd.read_csv(path)"
      ],
      "execution_count": null,
      "outputs": []
    },
    {
      "cell_type": "markdown",
      "metadata": {
        "id": "Jjqe1B16t-QR"
      },
      "source": [
        "DATA PREPROCESSING"
      ]
    },
    {
      "cell_type": "code",
      "metadata": {
        "id": "oza7-0BMyEZL"
      },
      "source": [
        "wells = df.WLNO.unique()"
      ],
      "execution_count": null,
      "outputs": []
    },
    {
      "cell_type": "code",
      "metadata": {
        "colab": {
          "base_uri": "https://localhost:8080/"
        },
        "id": "upQuGuXQuC43",
        "outputId": "09779bc9-f910-4a3e-9001-483d1edba814"
      },
      "source": [
        "df.columns"
      ],
      "execution_count": null,
      "outputs": [
        {
          "output_type": "execute_result",
          "data": {
            "text/plain": [
              "Index(['FIELD', 'yr-no', 'MTH', 'YR', 'Month', 'FY', 'fin_yr', 'Date',\n",
              "       'welno1', 'WLNO', 'SAND', 'Block', 'Lease', 'BEAN', 'WC', 'FDAYS', 'Ql',\n",
              "       'LIQUID', 'WATER', 'OILCM', 'OILMT', 'Qg', 'YLIQ', 'YWAT', 'YOILCM',\n",
              "       'YOILMT', 'Cumliq', 'Cumwater', 'TOILCM', 'CumoilMt'],\n",
              "      dtype='object')"
            ]
          },
          "metadata": {},
          "execution_count": 9
        }
      ]
    },
    {
      "cell_type": "code",
      "metadata": {
        "colab": {
          "base_uri": "https://localhost:8080/"
        },
        "id": "z1dMxTOZhjuz",
        "outputId": "a98b3bac-7a43-456e-8589-fabdfc52aa5a"
      },
      "source": [
        "wells"
      ],
      "execution_count": null,
      "outputs": [
        {
          "output_type": "execute_result",
          "data": {
            "text/plain": [
              "array(['MAN3', 'MAN9', 'MAN14', 'MAN10', 'MAN5', 'MAN7', 'MAN19', 'MAN23',\n",
              "       'MAN27', 'MAN29', 'MAN28', 'MAN31', 'MAN33', 'MAN36', 'MAN39',\n",
              "       'MAN40', 'MAN41', 'MAN42', 'MAN43', 'MAN35', 'MAN48', 'MAN22',\n",
              "       'MAN25', 'MAN46', 'MAN47', 'MAN49'], dtype=object)"
            ]
          },
          "metadata": {},
          "execution_count": 10
        }
      ]
    },
    {
      "cell_type": "code",
      "metadata": {
        "colab": {
          "base_uri": "https://localhost:8080/",
          "height": 307
        },
        "id": "xoMuVFUwinf6",
        "outputId": "115fcfbc-0639-4280-8529-ab40bb08be4e"
      },
      "source": [
        "df.head()"
      ],
      "execution_count": null,
      "outputs": [
        {
          "output_type": "execute_result",
          "data": {
            "text/html": [
              "<div>\n",
              "<style scoped>\n",
              "    .dataframe tbody tr th:only-of-type {\n",
              "        vertical-align: middle;\n",
              "    }\n",
              "\n",
              "    .dataframe tbody tr th {\n",
              "        vertical-align: top;\n",
              "    }\n",
              "\n",
              "    .dataframe thead th {\n",
              "        text-align: right;\n",
              "    }\n",
              "</style>\n",
              "<table border=\"1\" class=\"dataframe\">\n",
              "  <thead>\n",
              "    <tr style=\"text-align: right;\">\n",
              "      <th></th>\n",
              "      <th>FIELD</th>\n",
              "      <th>yr-no</th>\n",
              "      <th>MTH</th>\n",
              "      <th>YR</th>\n",
              "      <th>Month</th>\n",
              "      <th>FY</th>\n",
              "      <th>fin_yr</th>\n",
              "      <th>Date</th>\n",
              "      <th>welno1</th>\n",
              "      <th>WLNO</th>\n",
              "      <th>SAND</th>\n",
              "      <th>Block</th>\n",
              "      <th>Lease</th>\n",
              "      <th>BEAN</th>\n",
              "      <th>WC</th>\n",
              "      <th>FDAYS</th>\n",
              "      <th>Ql</th>\n",
              "      <th>LIQUID</th>\n",
              "      <th>WATER</th>\n",
              "      <th>OILCM</th>\n",
              "      <th>OILMT</th>\n",
              "      <th>Qg</th>\n",
              "      <th>YLIQ</th>\n",
              "      <th>YWAT</th>\n",
              "      <th>YOILCM</th>\n",
              "      <th>YOILMT</th>\n",
              "      <th>Cumliq</th>\n",
              "      <th>Cumwater</th>\n",
              "      <th>TOILCM</th>\n",
              "      <th>CumoilMt</th>\n",
              "    </tr>\n",
              "  </thead>\n",
              "  <tbody>\n",
              "    <tr>\n",
              "      <th>0</th>\n",
              "      <td>MANSA</td>\n",
              "      <td>1993.33</td>\n",
              "      <td>4</td>\n",
              "      <td>1993</td>\n",
              "      <td>04/93</td>\n",
              "      <td>1993-1994</td>\n",
              "      <td>1993-94</td>\n",
              "      <td>Apr-1993</td>\n",
              "      <td>3</td>\n",
              "      <td>MAN3</td>\n",
              "      <td>NaN</td>\n",
              "      <td>NaN</td>\n",
              "      <td>#REF!</td>\n",
              "      <td>NaN</td>\n",
              "      <td>0.0</td>\n",
              "      <td>NaN</td>\n",
              "      <td>NaN</td>\n",
              "      <td>NaN</td>\n",
              "      <td>NaN</td>\n",
              "      <td>NaN</td>\n",
              "      <td>0.0</td>\n",
              "      <td>NaN</td>\n",
              "      <td>NaN</td>\n",
              "      <td>NaN</td>\n",
              "      <td>NaN</td>\n",
              "      <td>NaN</td>\n",
              "      <td>NaN</td>\n",
              "      <td>NaN</td>\n",
              "      <td>NaN</td>\n",
              "      <td>NaN</td>\n",
              "    </tr>\n",
              "    <tr>\n",
              "      <th>1</th>\n",
              "      <td>MANSA</td>\n",
              "      <td>1993.33</td>\n",
              "      <td>4</td>\n",
              "      <td>1993</td>\n",
              "      <td>04/93</td>\n",
              "      <td>1993-1994</td>\n",
              "      <td>1993-94</td>\n",
              "      <td>Apr-1993</td>\n",
              "      <td>9</td>\n",
              "      <td>MAN9</td>\n",
              "      <td>NaN</td>\n",
              "      <td>NaN</td>\n",
              "      <td>#REF!</td>\n",
              "      <td>4.0</td>\n",
              "      <td>0.8</td>\n",
              "      <td>NaN</td>\n",
              "      <td>NaN</td>\n",
              "      <td>NaN</td>\n",
              "      <td>NaN</td>\n",
              "      <td>NaN</td>\n",
              "      <td>0.0</td>\n",
              "      <td>NaN</td>\n",
              "      <td>NaN</td>\n",
              "      <td>NaN</td>\n",
              "      <td>NaN</td>\n",
              "      <td>NaN</td>\n",
              "      <td>NaN</td>\n",
              "      <td>NaN</td>\n",
              "      <td>NaN</td>\n",
              "      <td>NaN</td>\n",
              "    </tr>\n",
              "    <tr>\n",
              "      <th>2</th>\n",
              "      <td>MANSA</td>\n",
              "      <td>1993.42</td>\n",
              "      <td>5</td>\n",
              "      <td>1993</td>\n",
              "      <td>05/93</td>\n",
              "      <td>1993-1994</td>\n",
              "      <td>1993-94</td>\n",
              "      <td>May-1993</td>\n",
              "      <td>3</td>\n",
              "      <td>MAN3</td>\n",
              "      <td>NaN</td>\n",
              "      <td>NaN</td>\n",
              "      <td>#REF!</td>\n",
              "      <td>NaN</td>\n",
              "      <td>0.0</td>\n",
              "      <td>NaN</td>\n",
              "      <td>NaN</td>\n",
              "      <td>NaN</td>\n",
              "      <td>NaN</td>\n",
              "      <td>NaN</td>\n",
              "      <td>0.0</td>\n",
              "      <td>NaN</td>\n",
              "      <td>NaN</td>\n",
              "      <td>NaN</td>\n",
              "      <td>NaN</td>\n",
              "      <td>NaN</td>\n",
              "      <td>NaN</td>\n",
              "      <td>NaN</td>\n",
              "      <td>NaN</td>\n",
              "      <td>NaN</td>\n",
              "    </tr>\n",
              "    <tr>\n",
              "      <th>3</th>\n",
              "      <td>MANSA</td>\n",
              "      <td>1993.42</td>\n",
              "      <td>5</td>\n",
              "      <td>1993</td>\n",
              "      <td>05/93</td>\n",
              "      <td>1993-1994</td>\n",
              "      <td>1993-94</td>\n",
              "      <td>May-1993</td>\n",
              "      <td>9</td>\n",
              "      <td>MAN9</td>\n",
              "      <td>NaN</td>\n",
              "      <td>NaN</td>\n",
              "      <td>#REF!</td>\n",
              "      <td>4.0</td>\n",
              "      <td>0.8</td>\n",
              "      <td>NaN</td>\n",
              "      <td>NaN</td>\n",
              "      <td>NaN</td>\n",
              "      <td>NaN</td>\n",
              "      <td>NaN</td>\n",
              "      <td>0.0</td>\n",
              "      <td>NaN</td>\n",
              "      <td>NaN</td>\n",
              "      <td>NaN</td>\n",
              "      <td>NaN</td>\n",
              "      <td>NaN</td>\n",
              "      <td>NaN</td>\n",
              "      <td>NaN</td>\n",
              "      <td>NaN</td>\n",
              "      <td>NaN</td>\n",
              "    </tr>\n",
              "    <tr>\n",
              "      <th>4</th>\n",
              "      <td>MANSA</td>\n",
              "      <td>1993.50</td>\n",
              "      <td>6</td>\n",
              "      <td>1993</td>\n",
              "      <td>06/93</td>\n",
              "      <td>1993-1994</td>\n",
              "      <td>1993-94</td>\n",
              "      <td>Jun-1993</td>\n",
              "      <td>3</td>\n",
              "      <td>MAN3</td>\n",
              "      <td>NaN</td>\n",
              "      <td>NaN</td>\n",
              "      <td>#REF!</td>\n",
              "      <td>NaN</td>\n",
              "      <td>0.0</td>\n",
              "      <td>NaN</td>\n",
              "      <td>NaN</td>\n",
              "      <td>NaN</td>\n",
              "      <td>NaN</td>\n",
              "      <td>NaN</td>\n",
              "      <td>0.0</td>\n",
              "      <td>NaN</td>\n",
              "      <td>NaN</td>\n",
              "      <td>NaN</td>\n",
              "      <td>NaN</td>\n",
              "      <td>NaN</td>\n",
              "      <td>NaN</td>\n",
              "      <td>NaN</td>\n",
              "      <td>NaN</td>\n",
              "      <td>NaN</td>\n",
              "    </tr>\n",
              "  </tbody>\n",
              "</table>\n",
              "</div>"
            ],
            "text/plain": [
              "   FIELD    yr-no  MTH    YR  Month  ... YOILMT Cumliq Cumwater TOILCM CumoilMt\n",
              "0  MANSA  1993.33    4  1993  04/93  ...    NaN    NaN      NaN    NaN      NaN\n",
              "1  MANSA  1993.33    4  1993  04/93  ...    NaN    NaN      NaN    NaN      NaN\n",
              "2  MANSA  1993.42    5  1993  05/93  ...    NaN    NaN      NaN    NaN      NaN\n",
              "3  MANSA  1993.42    5  1993  05/93  ...    NaN    NaN      NaN    NaN      NaN\n",
              "4  MANSA  1993.50    6  1993  06/93  ...    NaN    NaN      NaN    NaN      NaN\n",
              "\n",
              "[5 rows x 30 columns]"
            ]
          },
          "metadata": {},
          "execution_count": 11
        }
      ]
    },
    {
      "cell_type": "code",
      "metadata": {
        "colab": {
          "base_uri": "https://localhost:8080/",
          "height": 380
        },
        "id": "0r_8N5SMycC_",
        "outputId": "20378dea-8c47-4134-c15a-8828bb2d9b32"
      },
      "source": [
        "\n",
        "for well in wells:\n",
        "  \n",
        "  df = pd.read_csv(path)\n",
        "\n",
        "  df = df[df['WLNO']==well]\n",
        "  a = []\n",
        "  for i in range(len(df)):\n",
        "    a.append(i)\n",
        "  temp = pd.DataFrame(a)  \n",
        "  df['time'] = a\n",
        "  df = df.drop(columns = ['FIELD', 'yr-no', 'MTH', 'YR', 'Month', 'FY', 'fin_yr', 'Date',\n",
        "        'welno1', 'SAND', 'Block', 'Lease', 'BEAN', 'WC', 'FDAYS', 'Ql',\n",
        "          'OILMT', 'Qg', 'YLIQ', 'YWAT', 'YOILCM',\n",
        "        'YOILMT', 'Cumliq', 'Cumwater', 'TOILCM', 'CumoilMt'])\n",
        "  df = df[(df['OILCM'].notnull()) & (df['OILCM']>0)]\n",
        "  df = df[(df['LIQUID'].notnull()) & (df['LIQUID']>0)]\n",
        "  df = df[(df['WATER'].notnull()) & (df['WATER']>0)]\n",
        "  df_qi = df.head(5)\n",
        "  qi = df_qi.OILCM.max()\n",
        "  popt_exp, pcov_exp=curve_fit(exponential_equation,df['time'],df['OILCM'],bounds=(0, [qi,100]))\n",
        "  popt_hyp, pcov_hyp=curve_fit(hyperbolic_equation,df['time'],df['OILCM'],bounds=(0, [qi,2,100]))\n",
        "\n",
        "  df.loc[:,'Exponential_Predicted']=exponential_equation(df['time'], *popt_exp)\n",
        "  df.loc[:,'Hyperbolic_Predicted'] = hyperbolic_equation(df['time'], *popt_hyp)\n",
        "\n",
        "y_variables=['OILCM', \"Hyperbolic_Predicted\", \"Exponential_Predicted\"]\n",
        "x_variable='time'\n",
        "plot_title = well\n",
        "plot_actual_vs_predicted_by_equations(df, x_variable, y_variables, plot_title)"
      ],
      "execution_count": null,
      "outputs": [
        {
          "output_type": "stream",
          "name": "stderr",
          "text": [
            "/usr/local/lib/python3.7/dist-packages/scipy/optimize/minpack.py:808: OptimizeWarning: Covariance of the parameters could not be estimated\n",
            "  category=OptimizeWarning)\n"
          ]
        },
        {
          "output_type": "error",
          "ename": "ValueError",
          "evalue": "ignored",
          "traceback": [
            "\u001b[0;31m---------------------------------------------------------------------------\u001b[0m",
            "\u001b[0;31mValueError\u001b[0m                                Traceback (most recent call last)",
            "\u001b[0;32m<ipython-input-142-30b208284acf>\u001b[0m in \u001b[0;36m<module>\u001b[0;34m()\u001b[0m\n\u001b[1;32m     19\u001b[0m   \u001b[0mdf_qi\u001b[0m \u001b[0;34m=\u001b[0m \u001b[0mdf\u001b[0m\u001b[0;34m.\u001b[0m\u001b[0mhead\u001b[0m\u001b[0;34m(\u001b[0m\u001b[0;36m5\u001b[0m\u001b[0;34m)\u001b[0m\u001b[0;34m\u001b[0m\u001b[0;34m\u001b[0m\u001b[0m\n\u001b[1;32m     20\u001b[0m   \u001b[0mqi\u001b[0m \u001b[0;34m=\u001b[0m \u001b[0mdf_qi\u001b[0m\u001b[0;34m.\u001b[0m\u001b[0mOILCM\u001b[0m\u001b[0;34m.\u001b[0m\u001b[0mmax\u001b[0m\u001b[0;34m(\u001b[0m\u001b[0;34m)\u001b[0m\u001b[0;34m\u001b[0m\u001b[0;34m\u001b[0m\u001b[0m\n\u001b[0;32m---> 21\u001b[0;31m   \u001b[0mpopt_exp\u001b[0m\u001b[0;34m,\u001b[0m \u001b[0mpcov_exp\u001b[0m\u001b[0;34m=\u001b[0m\u001b[0mcurve_fit\u001b[0m\u001b[0;34m(\u001b[0m\u001b[0mexponential_equation\u001b[0m\u001b[0;34m,\u001b[0m\u001b[0mdf\u001b[0m\u001b[0;34m[\u001b[0m\u001b[0;34m'time'\u001b[0m\u001b[0;34m]\u001b[0m\u001b[0;34m,\u001b[0m\u001b[0mdf\u001b[0m\u001b[0;34m[\u001b[0m\u001b[0;34m'OILCM'\u001b[0m\u001b[0;34m]\u001b[0m\u001b[0;34m,\u001b[0m\u001b[0mbounds\u001b[0m\u001b[0;34m=\u001b[0m\u001b[0;34m(\u001b[0m\u001b[0;36m0\u001b[0m\u001b[0;34m,\u001b[0m \u001b[0;34m[\u001b[0m\u001b[0mqi\u001b[0m\u001b[0;34m,\u001b[0m\u001b[0;36m100\u001b[0m\u001b[0;34m]\u001b[0m\u001b[0;34m)\u001b[0m\u001b[0;34m)\u001b[0m\u001b[0;34m\u001b[0m\u001b[0;34m\u001b[0m\u001b[0m\n\u001b[0m\u001b[1;32m     22\u001b[0m   \u001b[0mpopt_hyp\u001b[0m\u001b[0;34m,\u001b[0m \u001b[0mpcov_hyp\u001b[0m\u001b[0;34m=\u001b[0m\u001b[0mcurve_fit\u001b[0m\u001b[0;34m(\u001b[0m\u001b[0mhyperbolic_equation\u001b[0m\u001b[0;34m,\u001b[0m\u001b[0mdf\u001b[0m\u001b[0;34m[\u001b[0m\u001b[0;34m'time'\u001b[0m\u001b[0;34m]\u001b[0m\u001b[0;34m,\u001b[0m\u001b[0mdf\u001b[0m\u001b[0;34m[\u001b[0m\u001b[0;34m'OILCM'\u001b[0m\u001b[0;34m]\u001b[0m\u001b[0;34m,\u001b[0m\u001b[0mbounds\u001b[0m\u001b[0;34m=\u001b[0m\u001b[0;34m(\u001b[0m\u001b[0;36m0\u001b[0m\u001b[0;34m,\u001b[0m \u001b[0;34m[\u001b[0m\u001b[0mqi\u001b[0m\u001b[0;34m,\u001b[0m\u001b[0;36m2\u001b[0m\u001b[0;34m,\u001b[0m\u001b[0;36m100\u001b[0m\u001b[0;34m]\u001b[0m\u001b[0;34m)\u001b[0m\u001b[0;34m)\u001b[0m\u001b[0;34m\u001b[0m\u001b[0;34m\u001b[0m\u001b[0m\n\u001b[1;32m     23\u001b[0m \u001b[0;34m\u001b[0m\u001b[0m\n",
            "\u001b[0;32m/usr/local/lib/python3.7/dist-packages/scipy/optimize/minpack.py\u001b[0m in \u001b[0;36mcurve_fit\u001b[0;34m(f, xdata, ydata, p0, sigma, absolute_sigma, check_finite, bounds, method, jac, **kwargs)\u001b[0m\n\u001b[1;32m    724\u001b[0m \u001b[0;34m\u001b[0m\u001b[0m\n\u001b[1;32m    725\u001b[0m     \u001b[0;32mif\u001b[0m \u001b[0mydata\u001b[0m\u001b[0;34m.\u001b[0m\u001b[0msize\u001b[0m \u001b[0;34m==\u001b[0m \u001b[0;36m0\u001b[0m\u001b[0;34m:\u001b[0m\u001b[0;34m\u001b[0m\u001b[0;34m\u001b[0m\u001b[0m\n\u001b[0;32m--> 726\u001b[0;31m         \u001b[0;32mraise\u001b[0m \u001b[0mValueError\u001b[0m\u001b[0;34m(\u001b[0m\u001b[0;34m\"`ydata` must not be empty!\"\u001b[0m\u001b[0;34m)\u001b[0m\u001b[0;34m\u001b[0m\u001b[0;34m\u001b[0m\u001b[0m\n\u001b[0m\u001b[1;32m    727\u001b[0m \u001b[0;34m\u001b[0m\u001b[0m\n\u001b[1;32m    728\u001b[0m     \u001b[0;31m# Determine type of sigma\u001b[0m\u001b[0;34m\u001b[0m\u001b[0;34m\u001b[0m\u001b[0;34m\u001b[0m\u001b[0m\n",
            "\u001b[0;31mValueError\u001b[0m: `ydata` must not be empty!"
          ]
        }
      ]
    },
    {
      "cell_type": "code",
      "metadata": {
        "id": "_5wibhhW16ke"
      },
      "source": [
        ""
      ],
      "execution_count": null,
      "outputs": []
    }
  ]
}